{
  "nbformat": 4,
  "nbformat_minor": 0,
  "metadata": {
    "colab": {
      "provenance": [],
      "authorship_tag": "ABX9TyN7HpSYvavuPINVBCKAzThY",
      "include_colab_link": true
    },
    "kernelspec": {
      "name": "python3",
      "display_name": "Python 3"
    },
    "language_info": {
      "name": "python"
    }
  },
  "cells": [
    {
      "cell_type": "markdown",
      "metadata": {
        "id": "view-in-github",
        "colab_type": "text"
      },
      "source": [
        "<a href=\"https://colab.research.google.com/github/AlejandroAntonioMataLozano/Notebook/blob/main/calculo_de_la_velocidad.ipynb\" target=\"_parent\"><img src=\"https://colab.research.google.com/assets/colab-badge.svg\" alt=\"Open In Colab\"/></a>"
      ]
    },
    {
      "cell_type": "code",
      "execution_count": 3,
      "metadata": {
        "colab": {
          "base_uri": "https://localhost:8080/"
        },
        "id": "s7eQoHaA7G15",
        "outputId": "dd34e37a-b5e5-4817-9945-374aaac92770"
      },
      "outputs": [
        {
          "output_type": "stream",
          "name": "stdout",
          "text": [
            "ingrese la distancia en metros210325\n",
            "ingrese el tiempo empleado en segundos120325\n",
            "la veloCidad es 1.747974236442967 m/s\n"
          ]
        }
      ],
      "source": [
        "distancia = float(input(\"ingrese la distancia en metros\"))\n",
        "tiempo = float(input(\"ingrese el tiempo empleado en segundos\"))\n",
        "velocidad = d/t\n",
        "print (f\"la veloCidad es {v} m/s\")"
      ]
    }
  ]
}