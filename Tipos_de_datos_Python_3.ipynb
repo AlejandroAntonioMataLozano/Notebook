{
  "nbformat": 4,
  "nbformat_minor": 0,
  "metadata": {
    "colab": {
      "provenance": [],
      "authorship_tag": "ABX9TyPKss0age6OZt4I8Jq7JxJy",
      "include_colab_link": true
    },
    "kernelspec": {
      "name": "python3",
      "display_name": "Python 3"
    },
    "language_info": {
      "name": "python"
    }
  },
  "cells": [
    {
      "cell_type": "markdown",
      "metadata": {
        "id": "view-in-github",
        "colab_type": "text"
      },
      "source": [
        "<a href=\"https://colab.research.google.com/github/AlejandroAntonioMataLozano/Notebook/blob/main/Tipos_de_datos_Python_3.ipynb\" target=\"_parent\"><img src=\"https://colab.research.google.com/assets/colab-badge.svg\" alt=\"Open In Colab\"/></a>"
      ]
    },
    {
      "cell_type": "markdown",
      "source": [
        "Int\n"
      ],
      "metadata": {
        "id": "UMpw7414uVoU"
      }
    },
    {
      "cell_type": "code",
      "execution_count": 12,
      "metadata": {
        "colab": {
          "base_uri": "https://localhost:8080/"
        },
        "id": "MIR9lnt5sBj0",
        "outputId": "1bf3d586-4901-4251-8628-90ecfd8c3f52"
      },
      "outputs": [
        {
          "output_type": "stream",
          "name": "stdout",
          "text": [
            "129302930910\n"
          ]
        }
      ],
      "source": [
        "x = 129302930910\n",
        "print (x)"
      ]
    },
    {
      "cell_type": "markdown",
      "source": [
        "Float"
      ],
      "metadata": {
        "id": "AXjD-eMFxvxo"
      }
    },
    {
      "cell_type": "code",
      "source": [
        "Y = 3.14159265358979\n",
        "print (y)"
      ],
      "metadata": {
        "colab": {
          "base_uri": "https://localhost:8080/"
        },
        "id": "6Gj6Y2pGyG1I",
        "outputId": "feaa0886-d53e-49d3-8060-fd27f48c5a9a"
      },
      "execution_count": 13,
      "outputs": [
        {
          "output_type": "stream",
          "name": "stdout",
          "text": [
            "10\n"
          ]
        }
      ]
    },
    {
      "cell_type": "markdown",
      "source": [
        "bool"
      ],
      "metadata": {
        "id": "-VDMee3XyYQ1"
      }
    },
    {
      "cell_type": "code",
      "source": [
        "TeamoAndy = True\n",
        "print(TeamoAndy)"
      ],
      "metadata": {
        "colab": {
          "base_uri": "https://localhost:8080/"
        },
        "id": "kpOY5BgiyfQF",
        "outputId": "c11dd988-24dc-43ee-a383-215f4906dcd9"
      },
      "execution_count": 17,
      "outputs": [
        {
          "output_type": "stream",
          "name": "stdout",
          "text": [
            "True\n"
          ]
        }
      ]
    },
    {
      "cell_type": "markdown",
      "source": [
        "str"
      ],
      "metadata": {
        "id": "0MSbC0XBywyC"
      }
    },
    {
      "cell_type": "code",
      "source": [
        "s = \"supercalifragilisticoexpialidocious\"\n",
        "print(s)\n",
        "print(s[3])"
      ],
      "metadata": {
        "colab": {
          "base_uri": "https://localhost:8080/"
        },
        "id": "_CX7MikbyyqQ",
        "outputId": "e39821e6-bf9b-4519-fc81-3fdcf6b14492"
      },
      "execution_count": 21,
      "outputs": [
        {
          "output_type": "stream",
          "name": "stdout",
          "text": [
            "supercalifragilisticoexpialidocious\n",
            "e\n"
          ]
        }
      ]
    },
    {
      "cell_type": "markdown",
      "source": [
        "List"
      ],
      "metadata": {
        "id": "tG3iHo4YzJ7Y"
      }
    },
    {
      "cell_type": "code",
      "source": [
        "nums = [4,5,6]\n",
        "print(nums)\n",
        "nums[0] = 99\n",
        "print(nums)\n",
        "nums[2] = 999\n",
        "print (nums)"
      ],
      "metadata": {
        "colab": {
          "base_uri": "https://localhost:8080/"
        },
        "id": "RyPd9enEzTsJ",
        "outputId": "ec68d1dc-a285-442b-9365-132504d0946f"
      },
      "execution_count": 28,
      "outputs": [
        {
          "output_type": "stream",
          "name": "stdout",
          "text": [
            "[4, 5, 6]\n",
            "[99, 5, 6]\n",
            "[99, 5, 999]\n"
          ]
        }
      ]
    },
    {
      "cell_type": "markdown",
      "source": [
        "tuple"
      ],
      "metadata": {
        "id": "0dNDvlFnz540"
      }
    },
    {
      "cell_type": "code",
      "source": [
        "coords = (123,123)\n",
        "print(coords)\n",
        "print(coords[1])"
      ],
      "metadata": {
        "colab": {
          "base_uri": "https://localhost:8080/"
        },
        "id": "6B_47W-Vz7LE",
        "outputId": "a6cead9b-73ea-419b-c0d8-620867212314"
      },
      "execution_count": 33,
      "outputs": [
        {
          "output_type": "stream",
          "name": "stdout",
          "text": [
            "(123, 123)\n",
            "123\n"
          ]
        }
      ]
    },
    {
      "cell_type": "markdown",
      "source": [
        "set"
      ],
      "metadata": {
        "id": "n84J-cUo0rMc"
      }
    },
    {
      "cell_type": "code",
      "source": [
        "Frutas = (\"Pera\", \"Cebolla\", \"Tomate\",)\n",
        "print(Frutas)\n",
        "print(Frutas[1])"
      ],
      "metadata": {
        "colab": {
          "base_uri": "https://localhost:8080/"
        },
        "id": "hv0IlhFv0sjA",
        "outputId": "68d7df42-fe6c-4a9e-e0e0-b6ede345a442"
      },
      "execution_count": 37,
      "outputs": [
        {
          "output_type": "stream",
          "name": "stdout",
          "text": [
            "('Pera', 'Cebolla', 'Tomate')\n",
            "Cebolla\n"
          ]
        }
      ]
    },
    {
      "cell_type": "markdown",
      "source": [
        "dict"
      ],
      "metadata": {
        "id": "o__F1_f81EdH"
      }
    },
    {
      "cell_type": "code",
      "source": [
        "alumno = {\"nombre\":\"ximena\",\"alumnos\":[\"andy\",\"maziel\",\"ariel\",\"fanny\"]}\n",
        "print(alumno)\n",
        "print(alumno[\"alumnos\"][1])\n",
        "print(alumno[\"alumnos\"][2])\n"
      ],
      "metadata": {
        "colab": {
          "base_uri": "https://localhost:8080/"
        },
        "id": "kDQwqXxY1aNd",
        "outputId": "2605fc3b-fa5c-47db-8643-1584765be70d"
      },
      "execution_count": 54,
      "outputs": [
        {
          "output_type": "stream",
          "name": "stdout",
          "text": [
            "{'nombre': 'ximena', 'alumnos': ['andy', 'maziel', 'ariel', 'fanny']}\n",
            "maziel\n",
            "ariel\n"
          ]
        }
      ]
    }
  ]
}