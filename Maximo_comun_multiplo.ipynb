{
  "nbformat": 4,
  "nbformat_minor": 0,
  "metadata": {
    "colab": {
      "provenance": [],
      "authorship_tag": "ABX9TyNOHzXdctHGSZu4uk0tVIyA",
      "include_colab_link": true
    },
    "kernelspec": {
      "name": "python3",
      "display_name": "Python 3"
    },
    "language_info": {
      "name": "python"
    }
  },
  "cells": [
    {
      "cell_type": "markdown",
      "metadata": {
        "id": "view-in-github",
        "colab_type": "text"
      },
      "source": [
        "<a href=\"https://colab.research.google.com/github/AlejandroAntonioMataLozano/Notebook/blob/main/Maximo_comun_multiplo.ipynb\" target=\"_parent\"><img src=\"https://colab.research.google.com/assets/colab-badge.svg\" alt=\"Open In Colab\"/></a>"
      ]
    },
    {
      "cell_type": "code",
      "execution_count": 15,
      "metadata": {
        "colab": {
          "base_uri": "https://localhost:8080/"
        },
        "id": "GQcUnfTFDz-t",
        "outputId": "65b60f46-8b90-4576-d293-3a8fb91a4a4a"
      },
      "outputs": [
        {
          "output_type": "stream",
          "name": "stdout",
          "text": [
            "ingrese el primer numero:9\n",
            "ingrese el segundo numero:3\n",
            "El MCM es: 9\n"
          ]
        }
      ],
      "source": [
        "def gcd(x, y):\n",
        "  while y != 0:\n",
        "    r = x % y\n",
        "    x = y\n",
        "    y = r\n",
        "  return x\n",
        "\n",
        "def mcm(x, y):\n",
        "  return abs(x * y) // gcd(x, y)\n",
        "\n",
        "  num1 = int(input(\"ingrese el primer numero:\"))\n",
        "  num2 = int(input(\"ingrese el segundo numero:\"))\n",
        "  print(\"El MCM es:\", mcm(num1, num2))\n",
        "num1 = int(input(\"ingrese el primer numero:\"))\n",
        "num2 = int(input(\"ingrese el segundo numero:\"))\n",
        "print(\"El MCM es:\", mcm(num1, num2))"
      ]
    }
  ]
}