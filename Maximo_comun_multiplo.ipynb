{
  "nbformat": 4,
  "nbformat_minor": 0,
  "metadata": {
    "colab": {
      "provenance": [],
      "authorship_tag": "ABX9TyMd63XjQ7xE7pdT0C9CSygI",
      "include_colab_link": true
    },
    "kernelspec": {
      "name": "python3",
      "display_name": "Python 3"
    },
    "language_info": {
      "name": "python"
    }
  },
  "cells": [
    {
      "cell_type": "markdown",
      "metadata": {
        "id": "view-in-github",
        "colab_type": "text"
      },
      "source": [
        "<a href=\"https://colab.research.google.com/github/AlejandroAntonioMataLozano/Notebook/blob/main/Maximo_comun_multiplo.ipynb\" target=\"_parent\"><img src=\"https://colab.research.google.com/assets/colab-badge.svg\" alt=\"Open In Colab\"/></a>"
      ]
    },
    {
      "cell_type": "code",
      "execution_count": 2,
      "metadata": {
        "colab": {
          "base_uri": "https://localhost:8080/"
        },
        "outputId": "3a9e559d-34b7-4b1d-ca32-3e5b68a8cc67",
        "id": "Uf0GHJDWxa4O"
      },
      "outputs": [
        {
          "output_type": "stream",
          "name": "stdout",
          "text": [
            "ingrese el primer numero:1809\n",
            "ingrese el segundo numero:3\n",
            "el MCM es : 1809\n"
          ]
        }
      ],
      "source": [
        "def gcd(x, y):\n",
        "  while y != 0:\n",
        "    r = x % y\n",
        "    x = y\n",
        "    y = r\n",
        "  return x\n",
        "\n",
        "def mcm(x, y):\n",
        "  return abs(x * y) // gcd(x, y)\n",
        "\n",
        "num1 = int(input(\"ingrese el primer numero:\"))\n",
        "num2 = int(input(\"ingrese el segundo numero:\"))\n",
        "print(\"el MCM es :\", mcm(num1, num2))"
      ]
    }
  ]
}